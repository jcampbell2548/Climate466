{
 "cells": [
  {
   "cell_type": "code",
   "execution_count": null,
   "metadata": {},
   "outputs": [],
   "source": [
    "#import packages required to run scripts\n",
    "import numpy as np #numpy is numerical python.  It is a package so you can do math\n",
    "import matplotlib.pyplot as plt #this package allows you to make nice plots\n",
    "import pandas as pd\n",
    "\n",
    "\n",
    "#Some basic notes:\n",
    "# python is a zero-based indexing language.\n",
    "# Use [] to access elements of an array\n",
    "# Use () to denote arguments of a function.\n",
    "# Contrast to matlab:\n",
    "# If you have used matlab, it is a 1-based indexing language\n",
    "# In matlab, you use () both to access elements of a matrix and to provide arguments to a function"
   ]
  },
  {
   "cell_type": "code",
   "execution_count": null,
   "metadata": {},
   "outputs": [],
   "source": [
    "filename='Global_Carbon_Budget_2022v1.0.xlsx'\n",
    "tabname='Historical Budget'\n",
    "budget=pd.read_excel(filename, sheet_name=tabname, header=15)\n",
    "\n",
    "budget.rename(columns={\"fossil emissions excluding carbonation\": \"fossil\", # get rid of names with spaces\n",
    "                       \"land-use change emissions\": \"LUC\",\n",
    "                       \"atmospheric growth\": \"atm_growth\",\n",
    "                       \"land sink\": \"land_sink\",\n",
    "                       \"ocean sink\": \"ocean_sink\",\n",
    "                       \"cement carbonation sink\": \"cement_weathering\",\n",
    "                       \"budget imbalance\": \"imbalance\"}, inplace=True)\n",
    "budget #look at the dataframe you have just loaded in\n"
   ]
  },
  {
   "cell_type": "code",
   "execution_count": null,
   "metadata": {},
   "outputs": [],
   "source": [
    "tabname='Fossil Emissions by Category'\n",
    "fossil=pd.read_excel(filename, sheet_name=tabname, header=8)\n",
    "fossil\n",
    "fossil.rename(columns={\"fossil.emissions.excluding.carbonation\": \"fossil\", #get rid of names with spaces\n",
    "                       \"Cement.emission\": \"cement\",\n",
    "                       \"Per.Capita\": \"percapita\"}, inplace=True)\n",
    "fossil"
   ]
  },
  {
   "cell_type": "code",
   "execution_count": null,
   "metadata": {},
   "outputs": [],
   "source": [
    "# readESRL is a function that reads atmospheric CO2 files\n",
    "# for a specified site.  It also writes output to a dictionary.\n",
    "\n",
    "def readESRL(filename):\n",
    "    with open(filename, 'r') as fid:\n",
    "        first_line=fid.readline()\n",
    "        nheader=first_line[-3:-1]\n",
    "        nheader=int(float(nheader))\n",
    "    data=np.loadtxt(filename, usecols=(1,2,3), skiprows=nheader)\n",
    "    time=data[:,0]+data[:,1]/12\n",
    "    co2=data[:,2]\n",
    "    month=data[:,1]\n",
    "    year=data[:,0]\n",
    "    site['year']=year\n",
    "    site['month']=month\n",
    "    site['co2']=co2\n",
    "    yearlist=np.unique(year)\n",
    "    Nyears=len(yearlist)\n",
    "    annCO2=0*yearlist\n",
    "    for iyr in np.arange(0,Nyears): #since data are monthly, we want to calculate annual averages\n",
    "        jyr=np.where(year==yearlist[iyr])\n",
    "        annCO2[iyr]=np.nanmean(co2[jyr])\n",
    "    site['uniqueyears']=yearlist\n",
    "    site['annmean_co2']=annCO2\n",
    "    return site"
   ]
  },
  {
   "cell_type": "code",
   "execution_count": null,
   "metadata": {},
   "outputs": [],
   "source": [
    "#Define dictionary elements for mlo and spo\n",
    "#point to location where these files are kept on your machine\n",
    "#read the files for these two sites\n",
    "#use print statement to \"see\" the output\n",
    "#you can comment this out if you don't want to see a bunch of numbers on your screen\n",
    "\n",
    "mlo={'name':'Mauna Loa', 'acronym': 'mlo'} #initialize a dictionary for mlo\n",
    "spo={'name':'South Pole', 'acronym': 'spo'}\n",
    "ESRL=[mlo, spo]\n",
    "#fileloc='/Users/gkeppela/Dropbox/Courses/F15_CarbonCycle/Fall2019/PS1_CarbonBudget/'\n",
    "for site in ESRL:\n",
    "    filename='co2_'+site['acronym']+'_surface-flask_1_ccgg_month.txt'\n",
    "    site=readESRL(filename)\n",
    "    #readESRL(fileloc+filename)\n",
    "#print(mlo) #you can comment this out!  But use print statements to troubleshoot your code as needed"
   ]
  },
  {
   "cell_type": "code",
   "execution_count": null,
   "metadata": {},
   "outputs": [],
   "source": [
    "#Plot a figure showing monthly and annual CO2\n",
    "\n",
    "plt.figure()\n",
    "plt.plot(mlo['year']+(mlo['month']-0.5)/12.0, mlo['co2'], color=[1,0,0])\n",
    "plt.plot(mlo['uniqueyears'], mlo['annmean_co2'], color=[0.7, 0.2, 0.2])\n",
    "plt.plot(spo['year']+(spo['month']-0.5)/12.0, spo['co2'], color=[0,0,1])\n",
    "plt.plot(spo['uniqueyears'], spo['annmean_co2'], color=[0.2, 0.2, 0.9])\n",
    "plt.xlabel('Year')\n",
    "plt.ylabel(r'CO$_2$ [ppm]')\n",
    "#plt.savefig('AtmosCO2Timeseries.eps') "
   ]
  },
  {
   "cell_type": "code",
   "execution_count": null,
   "metadata": {},
   "outputs": [],
   "source": [
    "# Find common period between CO2 and FF data\n",
    "# The datasets are all different lengths. \n",
    "# If you work in Earth science or really any kind of research, this section of code\n",
    "# represents the types of housekeeping that has to happen when you analyze data from\n",
    "# different sources.\n",
    "\n",
    "yrbeg=1981\n",
    "yrend=2021\n",
    "print(yrend)\n",
    "Nyr=yrend-yrbeg+1\n",
    "\n",
    "mlo_start=np.where(mlo['uniqueyears']==yrbeg)[0]\n",
    "print(mlo_start)\n",
    "mlo_end=np.where(mlo['uniqueyears']==yrend)[0]\n",
    "spo_start=np.where(spo['uniqueyears']==yrbeg)[0]\n",
    "spo_end=np.where(spo['uniqueyears']==yrend)[0]\n",
    "ff_start=np.where(fossil.Year==yrbeg)[0]\n",
    "ff_end=np.where(fossil.Year==yrend)[0]\n",
    "#print(np.arange(mlo_start,mlo_end))\n",
    "MLO_common=mlo['annmean_co2'][np.arange(mlo_start,mlo_end+1)]\n",
    "MLO_month_common=mlo['co2'][np.arange(mlo_start,mlo_end+1)]\n",
    "SPO_common=spo['annmean_co2'][np.arange(spo_start,spo_end+1)]\n",
    "FF_common=fossil.Year[np.arange(ff_start,ff_end+1)]\n",
    "#Year_common=fossil.Year[np.arange(ff_start,ff_end+1)]\n",
    "Year_common=mlo['uniqueyears'][np.arange(mlo_start,mlo_end+1)]\n",
    "print(Year_common)"
   ]
  },
  {
   "cell_type": "code",
   "execution_count": null,
   "metadata": {},
   "outputs": [],
   "source": [
    "#Calculate atmospheric growth rate and airborn fraction\n",
    "\n",
    "ppm2Pg=2 #conversion factor\n",
    "Catm=0.5*(MLO_common+SPO_common)*ppm2Pg\n",
    "\n",
    "growthrate=np.zeros(int(Nyr-1))\n",
    "for iyr in range(len(Year_common)-1):\n",
    "    print(iyr)\n",
    "    growthrate[iyr]=Catm[iyr+1]-Catm[iyr]\n",
    "    \n",
    "AnnualAF=100*growthrate/FF_common[0:-1]\n",
    "#find the years that comprise the decade of interest : indx_dec\n",
    "indx_start=np.where(Year_common==1981)[0]\n",
    "print(indx_start)\n",
    "print(Year_common[indx_start])\n",
    "indx_dec=np.arange(indx_start,indx_start+10)\n",
    "print(indx_dec)\n",
    "#np.mean(AnnualAF[indx_dec])\n",
    "#np.stdev(AnnualAF[index_dec])\n",
    "\n",
    "plt.figure()\n",
    "plt.plot(Year_common[0:-1],growthrate)\n",
    "##What are the units on this figure?\n",
    "\n",
    "plt.figure()\n",
    "plt.plot(Year_common[0:-1], AnnualAF)\n",
    "## What are the units on this figure?"
   ]
  },
  {
   "cell_type": "code",
   "execution_count": null,
   "metadata": {},
   "outputs": [],
   "source": [
    "#Calculate hemispheric gradient in atmospheric CO2 as a function of fossil emissions\n",
    "\n",
    "HemDelta=MLO_common-SPO_common\n",
    "plt.plot(FF_common, HemDelta, 'o')\n",
    "#Add x and y labels, with units\n",
    "\n",
    "\n",
    "# Fit a slope through this relationship\n",
    "#Then plot the trend line on the axes."
   ]
  },
  {
   "cell_type": "code",
   "execution_count": null,
   "metadata": {},
   "outputs": [],
   "source": []
  },
  {
   "cell_type": "code",
   "execution_count": null,
   "metadata": {},
   "outputs": [],
   "source": []
  }
 ],
 "metadata": {
  "kernelspec": {
   "display_name": "Python 3 (ipykernel)",
   "language": "python",
   "name": "python3"
  },
  "language_info": {
   "codemirror_mode": {
    "name": "ipython",
    "version": 3
   },
   "file_extension": ".py",
   "mimetype": "text/x-python",
   "name": "python",
   "nbconvert_exporter": "python",
   "pygments_lexer": "ipython3",
   "version": "3.9.5"
  }
 },
 "nbformat": 4,
 "nbformat_minor": 4
}
