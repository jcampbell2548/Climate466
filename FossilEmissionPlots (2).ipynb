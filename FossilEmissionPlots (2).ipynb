{
 "cells": [
  {
   "cell_type": "code",
   "execution_count": 16,
   "metadata": {},
   "outputs": [],
   "source": [
    "#import packages required to run scripts\n",
    "import numpy as np #numpy is numerical python.  It is a package so you can do math\n",
    "import matplotlib.pyplot as plt #this package allows you to make nice plots\n",
    "import pandas as pd\n",
    "\n",
    "\n",
    "#Some basic notes:\n",
    "# python is a zero-based indexing language.\n",
    "# Use [] to access elements of an array\n",
    "# Use () to denote arguments of a function.\n",
    "# Contrast to matlab:\n",
    "# If you have used matlab, it is a 1-based indexing language\n",
    "# In matlab, you use () both to access elements of a matrix and to provide arguments to a function"
   ]
  },
  {
   "cell_type": "code",
   "execution_count": 17,
   "metadata": {},
   "outputs": [
    {
     "data": {
      "text/html": [
       "<div>\n",
       "<style scoped>\n",
       "    .dataframe tbody tr th:only-of-type {\n",
       "        vertical-align: middle;\n",
       "    }\n",
       "\n",
       "    .dataframe tbody tr th {\n",
       "        vertical-align: top;\n",
       "    }\n",
       "\n",
       "    .dataframe thead th {\n",
       "        text-align: right;\n",
       "    }\n",
       "</style>\n",
       "<table border=\"1\" class=\"dataframe\">\n",
       "  <thead>\n",
       "    <tr style=\"text-align: right;\">\n",
       "      <th></th>\n",
       "      <th>Year</th>\n",
       "      <th>fossil</th>\n",
       "      <th>LUC</th>\n",
       "      <th>atm_growth</th>\n",
       "      <th>ocean_sink</th>\n",
       "      <th>land_sink</th>\n",
       "      <th>cement_weathering</th>\n",
       "      <th>imbalance</th>\n",
       "    </tr>\n",
       "  </thead>\n",
       "  <tbody>\n",
       "    <tr>\n",
       "      <th>0</th>\n",
       "      <td>1750</td>\n",
       "      <td>0.002552</td>\n",
       "      <td>NaN</td>\n",
       "      <td>NaN</td>\n",
       "      <td>NaN</td>\n",
       "      <td>0.232276</td>\n",
       "      <td>NaN</td>\n",
       "      <td>NaN</td>\n",
       "    </tr>\n",
       "    <tr>\n",
       "      <th>1</th>\n",
       "      <td>1751</td>\n",
       "      <td>0.002552</td>\n",
       "      <td>NaN</td>\n",
       "      <td>-0.074340</td>\n",
       "      <td>NaN</td>\n",
       "      <td>-0.505378</td>\n",
       "      <td>NaN</td>\n",
       "      <td>NaN</td>\n",
       "    </tr>\n",
       "    <tr>\n",
       "      <th>2</th>\n",
       "      <td>1752</td>\n",
       "      <td>0.002553</td>\n",
       "      <td>NaN</td>\n",
       "      <td>-0.070729</td>\n",
       "      <td>NaN</td>\n",
       "      <td>-0.222229</td>\n",
       "      <td>NaN</td>\n",
       "      <td>NaN</td>\n",
       "    </tr>\n",
       "    <tr>\n",
       "      <th>3</th>\n",
       "      <td>1753</td>\n",
       "      <td>0.002553</td>\n",
       "      <td>NaN</td>\n",
       "      <td>-0.067756</td>\n",
       "      <td>NaN</td>\n",
       "      <td>-0.380279</td>\n",
       "      <td>NaN</td>\n",
       "      <td>NaN</td>\n",
       "    </tr>\n",
       "    <tr>\n",
       "      <th>4</th>\n",
       "      <td>1754</td>\n",
       "      <td>0.002554</td>\n",
       "      <td>NaN</td>\n",
       "      <td>-0.064145</td>\n",
       "      <td>NaN</td>\n",
       "      <td>-0.022557</td>\n",
       "      <td>NaN</td>\n",
       "      <td>NaN</td>\n",
       "    </tr>\n",
       "    <tr>\n",
       "      <th>...</th>\n",
       "      <td>...</td>\n",
       "      <td>...</td>\n",
       "      <td>...</td>\n",
       "      <td>...</td>\n",
       "      <td>...</td>\n",
       "      <td>...</td>\n",
       "      <td>...</td>\n",
       "      <td>...</td>\n",
       "    </tr>\n",
       "    <tr>\n",
       "      <th>267</th>\n",
       "      <td>2017</td>\n",
       "      <td>9.851730</td>\n",
       "      <td>1.182300</td>\n",
       "      <td>4.545360</td>\n",
       "      <td>2.854828</td>\n",
       "      <td>3.555004</td>\n",
       "      <td>0.202927</td>\n",
       "      <td>-0.124088</td>\n",
       "    </tr>\n",
       "    <tr>\n",
       "      <th>268</th>\n",
       "      <td>2018</td>\n",
       "      <td>10.050902</td>\n",
       "      <td>1.141200</td>\n",
       "      <td>5.033880</td>\n",
       "      <td>2.947231</td>\n",
       "      <td>3.647435</td>\n",
       "      <td>0.209702</td>\n",
       "      <td>-0.646145</td>\n",
       "    </tr>\n",
       "    <tr>\n",
       "      <th>269</th>\n",
       "      <td>2019</td>\n",
       "      <td>10.120786</td>\n",
       "      <td>1.243800</td>\n",
       "      <td>5.437440</td>\n",
       "      <td>2.994756</td>\n",
       "      <td>3.041949</td>\n",
       "      <td>0.214002</td>\n",
       "      <td>-0.323561</td>\n",
       "    </tr>\n",
       "    <tr>\n",
       "      <th>270</th>\n",
       "      <td>2020</td>\n",
       "      <td>9.624478</td>\n",
       "      <td>1.107467</td>\n",
       "      <td>4.991400</td>\n",
       "      <td>2.998115</td>\n",
       "      <td>3.105137</td>\n",
       "      <td>0.220563</td>\n",
       "      <td>-0.583270</td>\n",
       "    </tr>\n",
       "    <tr>\n",
       "      <th>271</th>\n",
       "      <td>2021</td>\n",
       "      <td>10.132055</td>\n",
       "      <td>1.075067</td>\n",
       "      <td>5.225040</td>\n",
       "      <td>2.879512</td>\n",
       "      <td>3.450347</td>\n",
       "      <td>0.229795</td>\n",
       "      <td>-0.577571</td>\n",
       "    </tr>\n",
       "  </tbody>\n",
       "</table>\n",
       "<p>272 rows × 8 columns</p>\n",
       "</div>"
      ],
      "text/plain": [
       "     Year     fossil       LUC  atm_growth  ocean_sink  land_sink  \\\n",
       "0    1750   0.002552       NaN         NaN         NaN   0.232276   \n",
       "1    1751   0.002552       NaN   -0.074340         NaN  -0.505378   \n",
       "2    1752   0.002553       NaN   -0.070729         NaN  -0.222229   \n",
       "3    1753   0.002553       NaN   -0.067756         NaN  -0.380279   \n",
       "4    1754   0.002554       NaN   -0.064145         NaN  -0.022557   \n",
       "..    ...        ...       ...         ...         ...        ...   \n",
       "267  2017   9.851730  1.182300    4.545360    2.854828   3.555004   \n",
       "268  2018  10.050902  1.141200    5.033880    2.947231   3.647435   \n",
       "269  2019  10.120786  1.243800    5.437440    2.994756   3.041949   \n",
       "270  2020   9.624478  1.107467    4.991400    2.998115   3.105137   \n",
       "271  2021  10.132055  1.075067    5.225040    2.879512   3.450347   \n",
       "\n",
       "     cement_weathering  imbalance  \n",
       "0                  NaN        NaN  \n",
       "1                  NaN        NaN  \n",
       "2                  NaN        NaN  \n",
       "3                  NaN        NaN  \n",
       "4                  NaN        NaN  \n",
       "..                 ...        ...  \n",
       "267           0.202927  -0.124088  \n",
       "268           0.209702  -0.646145  \n",
       "269           0.214002  -0.323561  \n",
       "270           0.220563  -0.583270  \n",
       "271           0.229795  -0.577571  \n",
       "\n",
       "[272 rows x 8 columns]"
      ]
     },
     "execution_count": 17,
     "metadata": {},
     "output_type": "execute_result"
    }
   ],
   "source": [
    "#pandas.read_excel(io, sheet_name=0, *, header=0, names=None, index_col=None, usecols=None, dtype=None, engine=None, \n",
    "#converters=None, true_values=None, false_values=None, skiprows=None, nrows=None, na_values=None, keep_default_na=True, \n",
    "#na_filter=True, verbose=False, parse_dates=False, date_parser=_NoDefault.no_default, date_format=None, thousands=None, \n",
    "#decimal='.', comment=None, skipfooter=0, storage_options=None, dtype_backend=_NoDefault.no_default, engine_kwargs=None)\n",
    "#[source]\n",
    "\n",
    "#Global_Carbon_Budget_2022v1.0.xlsx = file\n",
    "# Historical Budget = tab \n",
    "\n",
    "filename='Global_Carbon_Budget_2022v1.0.xlsx'\n",
    "tabname='Historical Budget'\n",
    "budget=pd.read_excel(filename, sheet_name=tabname, header=15)\n",
    "\n",
    "budget.rename(columns={\"fossil emissions excluding carbonation\": \"fossil\", # get rid of names with spaces\n",
    "                       \"land-use change emissions\": \"LUC\",\n",
    "                       \"atmospheric growth\": \"atm_growth\",\n",
    "                       \"land sink\": \"land_sink\",\n",
    "                       \"ocean sink\": \"ocean_sink\",\n",
    "                       \"cement carbonation sink\": \"cement_weathering\",\n",
    "                       \"budget imbalance\": \"imbalance\"}, inplace=True)\n",
    "budget #look at the dataframe you have just loaded in\n"
   ]
  },
  {
   "cell_type": "code",
   "execution_count": 18,
   "metadata": {},
   "outputs": [
    {
     "data": {
      "text/html": [
       "<div>\n",
       "<style scoped>\n",
       "    .dataframe tbody tr th:only-of-type {\n",
       "        vertical-align: middle;\n",
       "    }\n",
       "\n",
       "    .dataframe tbody tr th {\n",
       "        vertical-align: top;\n",
       "    }\n",
       "\n",
       "    .dataframe thead th {\n",
       "        text-align: right;\n",
       "    }\n",
       "</style>\n",
       "<table border=\"1\" class=\"dataframe\">\n",
       "  <thead>\n",
       "    <tr style=\"text-align: right;\">\n",
       "      <th></th>\n",
       "      <th>Year</th>\n",
       "      <th>fossil</th>\n",
       "      <th>Coal</th>\n",
       "      <th>Oil</th>\n",
       "      <th>Gas</th>\n",
       "      <th>cement</th>\n",
       "      <th>Flaring</th>\n",
       "      <th>Other</th>\n",
       "      <th>percapita</th>\n",
       "    </tr>\n",
       "  </thead>\n",
       "  <tbody>\n",
       "    <tr>\n",
       "      <th>0</th>\n",
       "      <td>1850</td>\n",
       "      <td>53.738000</td>\n",
       "      <td>53.738000</td>\n",
       "      <td>0.000000</td>\n",
       "      <td>0.000000</td>\n",
       "      <td>0.000000</td>\n",
       "      <td>0.000000</td>\n",
       "      <td>0.000000</td>\n",
       "      <td>0.042559</td>\n",
       "    </tr>\n",
       "    <tr>\n",
       "      <th>1</th>\n",
       "      <td>1851</td>\n",
       "      <td>54.259000</td>\n",
       "      <td>54.259000</td>\n",
       "      <td>0.000000</td>\n",
       "      <td>0.000000</td>\n",
       "      <td>0.000000</td>\n",
       "      <td>0.000000</td>\n",
       "      <td>0.000000</td>\n",
       "      <td>0.042753</td>\n",
       "    </tr>\n",
       "    <tr>\n",
       "      <th>2</th>\n",
       "      <td>1852</td>\n",
       "      <td>56.646000</td>\n",
       "      <td>56.646000</td>\n",
       "      <td>0.000000</td>\n",
       "      <td>0.000000</td>\n",
       "      <td>0.000000</td>\n",
       "      <td>0.000000</td>\n",
       "      <td>0.000000</td>\n",
       "      <td>0.044407</td>\n",
       "    </tr>\n",
       "    <tr>\n",
       "      <th>3</th>\n",
       "      <td>1853</td>\n",
       "      <td>59.282000</td>\n",
       "      <td>59.282000</td>\n",
       "      <td>0.000000</td>\n",
       "      <td>0.000000</td>\n",
       "      <td>0.000000</td>\n",
       "      <td>0.000000</td>\n",
       "      <td>0.000000</td>\n",
       "      <td>0.046238</td>\n",
       "    </tr>\n",
       "    <tr>\n",
       "      <th>4</th>\n",
       "      <td>1854</td>\n",
       "      <td>69.634000</td>\n",
       "      <td>69.634000</td>\n",
       "      <td>0.000000</td>\n",
       "      <td>0.000000</td>\n",
       "      <td>0.000000</td>\n",
       "      <td>0.000000</td>\n",
       "      <td>0.000000</td>\n",
       "      <td>0.054038</td>\n",
       "    </tr>\n",
       "    <tr>\n",
       "      <th>...</th>\n",
       "      <td>...</td>\n",
       "      <td>...</td>\n",
       "      <td>...</td>\n",
       "      <td>...</td>\n",
       "      <td>...</td>\n",
       "      <td>...</td>\n",
       "      <td>...</td>\n",
       "      <td>...</td>\n",
       "      <td>...</td>\n",
       "    </tr>\n",
       "    <tr>\n",
       "      <th>167</th>\n",
       "      <td>2017</td>\n",
       "      <td>9851.730152</td>\n",
       "      <td>3959.326912</td>\n",
       "      <td>3341.328585</td>\n",
       "      <td>1950.034970</td>\n",
       "      <td>411.551088</td>\n",
       "      <td>106.984764</td>\n",
       "      <td>82.503834</td>\n",
       "      <td>1.296311</td>\n",
       "    </tr>\n",
       "    <tr>\n",
       "      <th>168</th>\n",
       "      <td>2018</td>\n",
       "      <td>10050.902456</td>\n",
       "      <td>4024.790035</td>\n",
       "      <td>3347.711868</td>\n",
       "      <td>2055.089188</td>\n",
       "      <td>428.280129</td>\n",
       "      <td>112.477005</td>\n",
       "      <td>82.554232</td>\n",
       "      <td>1.308066</td>\n",
       "    </tr>\n",
       "    <tr>\n",
       "      <th>169</th>\n",
       "      <td>2019</td>\n",
       "      <td>10120.785745</td>\n",
       "      <td>4019.098806</td>\n",
       "      <td>3369.446882</td>\n",
       "      <td>2087.207484</td>\n",
       "      <td>441.459276</td>\n",
       "      <td>119.883731</td>\n",
       "      <td>83.689567</td>\n",
       "      <td>1.303393</td>\n",
       "    </tr>\n",
       "    <tr>\n",
       "      <th>170</th>\n",
       "      <td>2020</td>\n",
       "      <td>9624.477547</td>\n",
       "      <td>3868.603715</td>\n",
       "      <td>3054.532901</td>\n",
       "      <td>2062.306300</td>\n",
       "      <td>446.926182</td>\n",
       "      <td>111.240085</td>\n",
       "      <td>80.868364</td>\n",
       "      <td>1.227463</td>\n",
       "    </tr>\n",
       "    <tr>\n",
       "      <th>171</th>\n",
       "      <td>2021</td>\n",
       "      <td>10132.055227</td>\n",
       "      <td>4088.318254</td>\n",
       "      <td>3230.665698</td>\n",
       "      <td>2162.071363</td>\n",
       "      <td>456.493551</td>\n",
       "      <td>113.680557</td>\n",
       "      <td>80.825804</td>\n",
       "      <td>1.281031</td>\n",
       "    </tr>\n",
       "  </tbody>\n",
       "</table>\n",
       "<p>172 rows × 9 columns</p>\n",
       "</div>"
      ],
      "text/plain": [
       "     Year        fossil         Coal          Oil          Gas      cement  \\\n",
       "0    1850     53.738000    53.738000     0.000000     0.000000    0.000000   \n",
       "1    1851     54.259000    54.259000     0.000000     0.000000    0.000000   \n",
       "2    1852     56.646000    56.646000     0.000000     0.000000    0.000000   \n",
       "3    1853     59.282000    59.282000     0.000000     0.000000    0.000000   \n",
       "4    1854     69.634000    69.634000     0.000000     0.000000    0.000000   \n",
       "..    ...           ...          ...          ...          ...         ...   \n",
       "167  2017   9851.730152  3959.326912  3341.328585  1950.034970  411.551088   \n",
       "168  2018  10050.902456  4024.790035  3347.711868  2055.089188  428.280129   \n",
       "169  2019  10120.785745  4019.098806  3369.446882  2087.207484  441.459276   \n",
       "170  2020   9624.477547  3868.603715  3054.532901  2062.306300  446.926182   \n",
       "171  2021  10132.055227  4088.318254  3230.665698  2162.071363  456.493551   \n",
       "\n",
       "        Flaring      Other  percapita  \n",
       "0      0.000000   0.000000   0.042559  \n",
       "1      0.000000   0.000000   0.042753  \n",
       "2      0.000000   0.000000   0.044407  \n",
       "3      0.000000   0.000000   0.046238  \n",
       "4      0.000000   0.000000   0.054038  \n",
       "..          ...        ...        ...  \n",
       "167  106.984764  82.503834   1.296311  \n",
       "168  112.477005  82.554232   1.308066  \n",
       "169  119.883731  83.689567   1.303393  \n",
       "170  111.240085  80.868364   1.227463  \n",
       "171  113.680557  80.825804   1.281031  \n",
       "\n",
       "[172 rows x 9 columns]"
      ]
     },
     "execution_count": 18,
     "metadata": {},
     "output_type": "execute_result"
    }
   ],
   "source": [
    "tabname='Fossil Emissions by Category'\n",
    "fossil=pd.read_excel(filename, sheet_name=tabname, header=8)\n",
    "fossil\n",
    "fossil.rename(columns={\"fossil.emissions.excluding.carbonation\": \"fossil\", #get rid of names with spaces\n",
    "                       \"Cement.emission\": \"cement\",\n",
    "                       \"Per.Capita\": \"percapita\"}, inplace=True)\n",
    "fossil"
   ]
  },
  {
   "cell_type": "code",
   "execution_count": 19,
   "metadata": {},
   "outputs": [
    {
     "data": {
      "text/plain": [
       "Year                   int64\n",
       "fossil               float64\n",
       "LUC                  float64\n",
       "atm_growth           float64\n",
       "ocean_sink           float64\n",
       "land_sink            float64\n",
       "cement_weathering    float64\n",
       "imbalance            float64\n",
       "dtype: object"
      ]
     },
     "execution_count": 19,
     "metadata": {},
     "output_type": "execute_result"
    }
   ],
   "source": [
    "budget.dtypes #what are the data? are they integers? floats? strings?\n",
    "#year is integer and rest are floats"
   ]
  },
  {
   "cell_type": "code",
   "execution_count": 20,
   "metadata": {},
   "outputs": [
    {
     "data": {
      "image/png": "[encoded data removed]",
      "text/plain": [
       "<Figure size 432x288 with 1 Axes>"
      ]
     },
     "metadata": {
      "needs_background": "light"
     },
     "output_type": "display_data"
    }
   ],
   "source": [
    "#Plot a figure showing fossil fuel emissions\n",
    "plt.figure()\n",
    "plt.plot(budget.Year, 10**3*budget.fossil, color=[0,0,0]) # pay attention to units! Why the factor of 1000?\n",
    "# Units were in billion tonnes of carbon per year (GtC/yr) but multiplied by 1000 to be in million tonnes \n",
    "# of carbon per year (MtC/yr) since fossil.fossil units are MtC/yr\n",
    "plt.plot(fossil.Year, fossil.fossil, 'r--') #Consistency check! Are the two datasets the same?\n",
    "plt.xlabel('Year')\n",
    "plt.ylabel(r'CO$_2$ emissions (MtC/yr)') # Check for units and add units to your figure!!\n",
    "plt.savefig('CO2_Emissions.eps')"
   ]
  },
  {
   "cell_type": "code",
   "execution_count": 50,
   "metadata": {},
   "outputs": [
    {
     "data": {
      "image/png": "[encoded data removed]",
      "text/plain": [
       "<Figure size 432x288 with 1 Axes>"
      ]
     },
     "metadata": {
      "needs_background": "light"
     },
     "output_type": "display_data"
    }
   ],
   "source": [
    "#Calculate cumulative Emission since 1751\n",
    "cumFF=np.cumsum(budget.fossil)\n",
    "\n",
    "# Write some lines of code to make a plot of cumulative emissions\n",
    "# Add Labels, Check for Units!\n",
    "plt.figure()\n",
    "plt.plot(budget.Year, cumFF, color=[0,0,0]) \n",
    "plt.xlabel('Year')\n",
    "plt.ylabel(r'CO$_2$ cumulative emissions (GtC)') # Units are GtC or PgC\n",
    "plt.savefig('CO2_Cumulative_Emissions.png')"
   ]
  },
  {
   "cell_type": "code",
   "execution_count": 22,
   "metadata": {},
   "outputs": [
    {
     "name": "stdout",
     "output_type": "stream",
     "text": [
      "260    107.49632\n",
      "Name: fossil, dtype: float64\n",
      "0    474.050403\n",
      "Name: fossil, dtype: float64\n",
      "0.22676137246106295\n"
     ]
    }
   ],
   "source": [
    "#Calculate cumulative Emission since 1990 (or any arbitrary year!)\n",
    "#print(cumFF)\n",
    "startindex=np.where(budget.Year==2010)[0]\n",
    "FFcum_2010=cumFF.iloc[-1]-cumFF.iloc[startindex]\n",
    "print(FFcum_2010) # since 1990, cumulative emissions is ~253.5 \n",
    "\n",
    "#Your turn: Add code to calculate fraction of fossil fuels emitted since 1990\n",
    "startindex=np.where(budget.Year==1750)[0]\n",
    "FFcum_1750=cumFF.iloc[-1]-cumFF.iloc[startindex]\n",
    "print(FFcum_1750) # since 1750, cumulative emissions is ~474.1\n",
    "fraction = 107.49632 / 474.050403\n",
    "print(fraction) # 1990 fraction is ~0.5"
   ]
  },
  {
   "cell_type": "code",
   "execution_count": 51,
   "metadata": {},
   "outputs": [
    {
     "data": {
      "image/png": "[encoded data removed]",
      "text/plain": [
       "<Figure size 432x288 with 1 Axes>"
      ]
     },
     "metadata": {
      "needs_background": "light"
     },
     "output_type": "display_data"
    }
   ],
   "source": [
    "yearly = [\"1990\",\"2000\",\"2010\"]\n",
    "yearly_trend = [0.53,0.40,0.23]\n",
    "\n",
    "plt.figure()\n",
    "plt.plot(yearly, yearly_trend,color='mediumblue') \n",
    "plt.title('Fraction of Cumulative Total of Fossil Emissions')\n",
    "plt.xlabel('Year Since')\n",
    "plt.ylabel(r'Fraction of Fossil Emissions') \n",
    "plt.savefig('Fraction_Emissions.png')"
   ]
  },
  {
   "cell_type": "code",
   "execution_count": 23,
   "metadata": {},
   "outputs": [
    {
     "name": "stdout",
     "output_type": "stream",
     "text": [
      "0.40350335272666427\n",
      "0.21338922006407948\n"
     ]
    }
   ],
   "source": [
    "# Finding what fraction of total emissions is due to coal then gas\n",
    "coal = fossil.Coal[171]\n",
    "gas = fossil.Gas[171]\n",
    "total = fossil.fossil[171]\n",
    "print(coal/total)\n",
    "print(gas/total)"
   ]
  },
  {
   "cell_type": "code",
   "execution_count": 55,
   "metadata": {},
   "outputs": [
    {
     "data": {
      "image/png": "[encoded data removed]",
      "text/plain": [
       "<Figure size 720x360 with 1 Axes>"
      ]
     },
     "metadata": {
      "needs_background": "light"
     },
     "output_type": "display_data"
    }
   ],
   "source": [
    "type_energy = [coal/total,gas/total,total/total]\n",
    "energy_type = [\"coal\",\"gas\",\"total\"]\n",
    "\n",
    "fig = plt.figure(figsize = (10, 5))\n",
    "plt.bar(energy_type, type_energy, color ='firebrick',width = 0.4) \n",
    "plt.title('Fraction of Total Emissions')\n",
    "plt.xlabel('Type')\n",
    "plt.ylabel(r'Fraction of Total Emissions') \n",
    "plt.savefig('Fraction_Total_Emissions.png')"
   ]
  },
  {
   "cell_type": "code",
   "execution_count": 43,
   "metadata": {},
   "outputs": [
    {
     "name": "stdout",
     "output_type": "stream",
     "text": [
      "[250]\n",
      "0.22470791953323072\n",
      "250    3.234627\n",
      "Name: fossil, dtype: float64\n"
     ]
    }
   ],
   "source": [
    "# Calculate decadal Growth Rate in emissions\n",
    "#you will need to \"rinse and repeat\" starting with different years\n",
    "indx=np.where(budget.Year==2000)[0] \n",
    "print(indx) \n",
    "\n",
    "# Why do we have that [0] in the first line of code:\n",
    "# Modify the first line to remove the [0]\n",
    "# How do the results from the print statements differ with and without the [0]?  \n",
    "# Code won't run without the [0]\n",
    "# [0] is telling python to access the first element of the array (0 is first)\n",
    "# If you don't include which element you want to see, python won't know and won't run it\n",
    "\n",
    "decade=np.arange(indx, indx+10)\n",
    "\n",
    "p1=np.polyfit(budget.Year[decade],budget.fossil[decade],1 ) # you are fitting a linear trend for ten years of data\n",
    "trend=p1[0] # PgC/y/y\n",
    "relativetrend=trend/budget.fossil[indx]*100 # %/y\n",
    "print(trend) \n",
    "print(relativetrend) "
   ]
  },
  {
   "cell_type": "code",
   "execution_count": 47,
   "metadata": {},
   "outputs": [
    {
     "data": {
      "image/png": "[encoded data removed]",
      "text/plain": [
       "<Figure size 432x288 with 1 Axes>"
      ]
     },
     "metadata": {
      "needs_background": "light"
     },
     "output_type": "display_data"
    }
   ],
   "source": [
    "decadal = [\"1950s\",\"1960s\",\"1970s\",\"1980s\",\"1990s\",\"2000s\"]\n",
    "decadal_trend = [0.09,0.13,0.13,0.11,0.06,0.22]\n",
    "\n",
    "plt.figure()\n",
    "plt.plot(decadal, decadal_trend,color='seagreen') \n",
    "plt.title('Decadal Fossil Fuel Emission Rates')\n",
    "plt.xlabel('Decade')\n",
    "plt.ylabel(r'Rate of Fossil Emissions (PgC/yr/yr)') \n",
    "plt.savefig('Rates_Emissions.png')"
   ]
  },
  {
   "cell_type": "code",
   "execution_count": 48,
   "metadata": {},
   "outputs": [
    {
     "data": {
      "image/png": "[encoded data removed]",
      "text/plain": [
       "<Figure size 432x288 with 1 Axes>"
      ]
     },
     "metadata": {
      "needs_background": "light"
     },
     "output_type": "display_data"
    }
   ],
   "source": [
    "decadal = [\"1950s\",\"1960s\",\"1970s\",\"1980s\",\"1990s\",\"2000s\"]\n",
    "decadal_trend = [5.35,5.27,3.32,2.02,1,3.23]\n",
    "\n",
    "plt.figure()\n",
    "plt.plot(decadal, decadal_trend,color='darkviolet') \n",
    "plt.title('Decadal Fossil Fuel Emission Relative Rates of Increase')\n",
    "plt.xlabel('Decade')\n",
    "plt.ylabel(r'Relative Rate of Fossil Emissions (%/yr)') \n",
    "plt.savefig('Rel_Rates_Emissions.png')"
   ]
  },
  {
   "cell_type": "code",
   "execution_count": null,
   "metadata": {},
   "outputs": [],
   "source": []
  }
 ],
 "metadata": {
  "kernelspec": {
   "display_name": "Python 3 (ipykernel)",
   "language": "python",
   "name": "python3"
  },
  "language_info": {
   "codemirror_mode": {
    "name": "ipython",
    "version": 3
   },
   "file_extension": ".py",
   "mimetype": "text/x-python",
   "name": "python",
   "nbconvert_exporter": "python",
   "pygments_lexer": "ipython3",
   "version": "3.8.11"
  }
 },
 "nbformat": 4,
 "nbformat_minor": 4
}
