{
 "cells": [
  {
   "cell_type": "code",
   "execution_count": 1,
   "metadata": {},
   "outputs": [],
   "source": [
    "#### Carbonate Chemistry - very simple calculation.  Borates are left out.\n",
    "#### Gretchen Keppel-Aleks -- October 2019\n",
    "#### Inez Fung -- February 6 2014\n",
    "#### \n",
    "####\n",
    "\n",
    "# CO2 + H20 = H+ + HCO3-\n",
    "# CO3= + H+ = HCO3-\n",
    "\n",
    "# K1 = [H+][HCO3-]/[CO2]\n",
    "# K2 = [H+][CO3=]/[HCO3-]\n",
    "# K  = K1/K2\n",
    "#    = [HCO2]*[HCO3])/[CO2]*[CO3=]\n",
    "\n",
    "# DIC  = [CO2] + [HCO3] + [CO3=] approx= [HCO3-] + {CO3=]\n",
    "# TALk = [HCO3-] + 2*{CO3=]\n",
    "\n",
    "# [CO3=] = TALK - DIC\n",
    "# [HCO3-] = DIC - [CO3=] = 2*DIC - TALK\n",
    "# [CO2]= 1/K * (2*DIC - TALK)^2 /( TALK-DIC )\n",
    "\n",
    "\n",
    "#%%%% Typical values for sea water  %%%%%%%%%%%%%%%%%%%%%%\n",
    "#    TC = 25;                        % Temperature   (Celcius)\n",
    "#    S =  35;                        % Salinity (psu, or g/kg)\n",
    "#    P =  0;                         % Pressure      (bar)\n",
    "#    ph1   = [8.2, 8.3, 8.4];        % pH\n",
    "#    co21    = [10, 11, 12];         % [CO2]         (µmol/kg)\n",
    "#    hco31 = [1700, 1750, 1800];     % [HCO3-]       (µmol/kg)\n",
    "#    co31  = [200, 250, 300];        % [CO3--]       (µmol/kg)\n",
    "#    alk1  = [2350, 2400, 2450];     % ALK           (µmol/kg)\n",
    "#    dic1  = [1950, 2000, 2050];     % [DIC]         (µmol/kg)\n",
    "#    pco21 = [355, 365, 375];        % pCO2          (µatm)\n",
    "\n",
    "#%%%%%  co2, dic, etc in mol/kg or eq/kg\n",
    "#    co2 = dic / (1.+K1/h+K1*K2/h/h);\n",
    "#    hco3 = dic/(1+h/K1+K2/h);\n",
    "#    co3 = dic/(1+h/K2+h*h/K1/K2);\n",
    "#    alk = s*(K1/h+2.*K1*K2/h/h)+Kb*bor/(Kb+h)+Kw/h-h;"
   ]
  },
  {
   "cell_type": "code",
   "execution_count": 2,
   "metadata": {},
   "outputs": [],
   "source": [
    "import numpy as np\n",
    "import matplotlib.pyplot as plt"
   ]
  },
  {
   "cell_type": "code",
   "execution_count": 3,
   "metadata": {},
   "outputs": [],
   "source": [
    "# Specify sanlinity and borates\n",
    "S=35. # g/kg\n",
    "bor = 1*(416*(S/35.))* 1.e-6;   # (mol/kg), DOE94"
   ]
  },
  {
   "cell_type": "code",
   "execution_count": 4,
   "metadata": {},
   "outputs": [],
   "source": [
    "# Define solubility (T,S)\n",
    "def lnsolub(T,S):\n",
    "    A1=-60.2409\n",
    "    A2=93.4517\n",
    "    A3=23.3585\n",
    "    B1=0.023417\n",
    "    B2=-0.023656\n",
    "    B3=0.0047036\n",
    "    lnsolub=( A1 + A2*(100/T) + A3*np.log(T/100)+S*(B1 + B2*(T/100) + B3*(T/100)**2  ) )\n",
    "\n",
    "    #lnsolub=(9345.17/T- 167.8108 + 23.3585*(np.log(T)) +[0.023517-2.3656e-4*T + 4.7036e-7*T*T]*S);\n",
    "    return lnsolub "
   ]
  },
  {
   "cell_type": "code",
   "execution_count": 5,
   "metadata": {},
   "outputs": [],
   "source": [
    "#Define log of equilibrium constant 1\n",
    "def pK1(T,S):\n",
    "    pK1=(17.788 - 0.073104*T - 0.0051087*S + 1.1463e-4*T*T)\n",
    "    return pK1"
   ]
  },
  {
   "cell_type": "code",
   "execution_count": 6,
   "metadata": {},
   "outputs": [],
   "source": [
    "#Define log of equilibrium constant 2\n",
    "def pK2(T,S):\n",
    "    pK2=(20.919 - 0.064209*T - 0.011887*S + 8.7313e-5*T*T)\n",
    "    return pK2"
   ]
  },
  {
   "cell_type": "code",
   "execution_count": 7,
   "metadata": {},
   "outputs": [],
   "source": [
    "# Kw Used for alkalinity calculation\n",
    "def lnKw(T,S):\n",
    "    lnKw=(-13847.26/T + 148.96502 - 23.6521 * np.log(T) + (118.67/T - 5.977 + 1.0495*np.log(T))*np.sqrt(S) - 0.01615*S)\n",
    "    return lnKw"
   ]
  },
  {
   "cell_type": "code",
   "execution_count": 8,
   "metadata": {},
   "outputs": [],
   "source": [
    "#Kb used for alkalinity calculation\n",
    "def lnKb(T,S):\n",
    "    lnKb=( (-8966.90 - 2890.53*np.sqrt(S) - 77.942*S + 1.728*S**(3/2) - 0.0996*S*S)/T \n",
    "     + 148.0248 + 137.1942*np.sqrt(S) + 1.62142*S  \n",
    "     + (-24.4344 - 25.085*np.sqrt(S) - 0.2474*S) *np.log(T) \n",
    "     + 0.053105*np.sqrt(S)*T  )\n",
    "    return lnKb"
   ]
  },
  {
   "cell_type": "code",
   "execution_count": 9,
   "metadata": {},
   "outputs": [
    {
     "name": "stdout",
     "output_type": "stream",
     "text": [
      "0\n",
      "6.404895580832733e-07 3.3207017707957355e-10\n",
      "1\n",
      "6.559625641080179e-07 3.448676588803634e-10\n",
      "2\n",
      "6.714548201441697e-07 3.5801435287687847e-10\n",
      "3\n",
      "6.8695023561379e-07 3.7151279969230205e-10\n",
      "4\n",
      "7.024323392550146e-07 3.8536520405941967e-10\n",
      "5\n",
      "7.178843055043424e-07 3.995734185467168e-10\n",
      "6\n",
      "7.332889824258371e-07 4.1413892739530857e-10\n",
      "7\n",
      "7.486289211326039e-07 4.290628305105385e-10\n",
      "8\n",
      "7.638864066393973e-07 4.443458276533017e-10\n",
      "9\n",
      "7.79043490078143e-07 4.5998820287710506e-10\n",
      "10\n",
      "7.940820222019877e-07 4.759898092580231e-10\n",
      "11\n",
      "8.089836880969495e-07 4.923500539653389e-10\n",
      "12\n",
      "8.237300430140685e-07 5.090678837216244e-10\n",
      "13\n",
      "8.38302549229326e-07 5.261417707013189e-10\n",
      "14\n",
      "8.52682613832739e-07 5.435696989176388e-10\n",
      "15\n",
      "8.668516273428346e-07 5.613491511475949e-10\n",
      "16\n",
      "8.807910030378658e-07 5.794770964453876e-10\n",
      "17\n",
      "8.944822168904452e-07 5.979499782941199e-10\n",
      "18\n",
      "9.079068479881207e-07 6.167637034458825e-10\n",
      "19\n",
      "9.210466193188611e-07 6.359136314996452e-10\n",
      "20\n",
      "9.338834387968215e-07 6.553945652661295e-10\n",
      "21\n",
      "9.463994404013654e-07 6.752007419678859e-10\n",
      "22\n",
      "9.585770252996042e-07 6.953258253221888e-10\n",
      "23\n",
      "9.703989028213046e-07 7.157628985530382e-10\n",
      "24\n",
      "9.818481311535396e-07 7.365044583775883e-10\n",
      "25\n",
      "9.929081576218798e-07 7.575424100105661e-10\n",
      "26\n",
      "1.0035628584246358e-06 7.788680632290688e-10\n",
      "27\n",
      "1.013796577687266e-06 8.004721295378017e-10\n",
      "28\n",
      "1.0235941657049812e-06 8.223447204734135e-10\n",
      "29\n",
      "1.0329410162430322e-06 8.444753470838489e-10\n",
      "30\n",
      "1.0418231027665073e-06 8.668529206168338e-10\n",
      "31\n",
      "1.0502270134740485e-06 8.894657544486295e-10\n",
      "32\n",
      "1.0581399850129668e-06 9.12301567281885e-10\n",
      "33\n",
      "1.065549934757595e-06 9.353474876382363e-10\n",
      "34\n",
      "1.0724454915363663e-06 9.585900596686446e-10\n",
      "35\n",
      "1.0788160246984475e-06 9.82015250300853e-10\n",
      "36\n",
      "1.084651671416079e-06 1.0056084577405567e-09\n",
      "37\n",
      "1.0899433621241533e-06 1.0293545213388907e-09\n",
      "38\n",
      "1.0946828440056386e-06 1.0532377328358196e-09\n",
      "39\n",
      "1.0988627024374205e-06 1.0772418489847085e-09\n",
      "40\n",
      "1.1024763803186622e-06 1.1013501055602588e-09\n",
      "41\n",
      "1.105518195211216e-06 1.125545232747345e-09\n",
      "42\n",
      "1.1079833542292401e-06 1.1498094719050363e-09\n",
      "43\n",
      "1.1098679666235507e-06 1.1741245936953866e-09\n",
      "44\n",
      "1.1111690540143636e-06 1.1984719175630638e-09\n",
      "45\n",
      "1.1118845582348005e-06 1.2228323325471567e-09\n",
      "46\n",
      "1.1120133467562474e-06 1.2471863194029343e-09\n",
      "47\n",
      "1.1115552156754789e-06 1.271513974006471e-09\n",
      "48\n",
      "1.1105108902526326e-06 1.295795032011489e-09\n",
      "49\n",
      "1.1088820229979472e-06 1.320008894723182e-09\n",
      "50\n",
      "1.1066711893144393e-06 1.3441346561496507e-09\n"
     ]
    }
   ],
   "source": [
    "#Explore how parameters vary with respect to temperature\n",
    "\n",
    "temp=np.arange(0.,51.,1);   # temperature in Celsius\n",
    "\n",
    "T=0*temp #initialize the arrays to have same length as temperature\n",
    "solub=0*temp\n",
    "solub2=0*temp\n",
    "K1=0*temp\n",
    "K2=0*temp\n",
    "K=0*temp\n",
    "solK=0*temp\n",
    "\n",
    "for n in range(len(temp)): #loop over temperature\n",
    "    print(n)\n",
    "    T=273.15+temp[n];\n",
    "    solub[n]=np.exp(lnsolub(T,S))\n",
    "    solub2[n]=np.exp(lnsolub(T,40))\n",
    "    K1[n]=10**(-pK1(T,S))\n",
    "    K2[n]=10**(-pK2(T,S))\n",
    "    print(K1[n], K2[n])\n",
    "    K[n]=K1[n]/K2[n]\n",
    "    solK[n]=solub[n]*K[n]\n",
    "\n"
   ]
  },
  {
   "cell_type": "code",
   "execution_count": 10,
   "metadata": {},
   "outputs": [
    {
     "data": {
      "text/plain": [
       "Text(0.5, 1.0, 'Temperature and Equilibrium Constants')"
      ]
     },
     "execution_count": 10,
     "metadata": {},
     "output_type": "execute_result"
    },
    {
     "data": {
      "image/png": "[encoded data removed]",
      "text/plain": [
       "<Figure size 432x288 with 1 Axes>"
      ]
     },
     "metadata": {
      "needs_background": "light"
     },
     "output_type": "display_data"
    }
   ],
   "source": [
    "# Make some plots for Q1 here; make sure they're labeled and that you can see the data for each value clearly\n",
    "#this might require multiple plots\n",
    "\n",
    "# for this assignment, you may sometimes want to use linear, semi-log, or log-log plots\n",
    "#Here is an example of the syntax for these plots\n",
    "    \n",
    "#plt.plot(temp, K2)        #this plots the x- and y-axes on a linear scale\n",
    "#plt.semilogy(temp, K2)    #this plots the y-axis on a log scale\n",
    "#plt.loglog(temp,K2)       #this plots both x- and y-axes on a log scale\n",
    "\n",
    "plt.figure()\n",
    "plt.plot(temp, solub)\n",
    "#plt.semilogy(temp, K1, color='red',linewidth=2, label=\"K1\")\n",
    "#plt.semilogy(temp, K2, color='green',linewidth=2, label=\"K2\")\n",
    "#plt.semilogy(temp, K1)\n",
    "#plt.loglog(temp, K2)\n",
    "#plt.xlim([0,55])\n",
    "#plt.ylim([0, 1.5])\n",
    "plt.xlabel('Temperature (C)')\n",
    "plt.ylabel('Equilibrium Constants')\n",
    "plt.title('Temperature and Equilibrium Constants')\n",
    "#plt.legend()\n",
    "\n"
   ]
  },
  {
   "cell_type": "code",
   "execution_count": 11,
   "metadata": {},
   "outputs": [],
   "source": [
    "# Explore how partitioning between dissolved CO2,\n",
    "# bicarbonate, and carbonate changes with T\n",
    "\n",
    "S=35\n",
    "temp=np.arange(0.,50.,1);   # temperature in Celsius\n",
    "dic=2000e-6 #specify values for dic and total alkalinity (talk) Units are mol/kg\n",
    "talk=2300e-6 # units are mol/kg\n",
    "\n",
    "co2r=0*temp #initialize the arrays to have same length as temperature\n",
    "hco3r=0*temp\n",
    "co3r=0*temp\n",
    "ph_t=0*temp\n",
    "co2=0*temp\n",
    "co3=0*temp\n",
    "hco3=0*temp\n",
    "K=0*temp\n",
    "\n",
    "for n in range(len(temp)): #loop over temperature\n",
    "    #print(n)\n",
    "    T=273.15+temp[n];\n",
    "    #print(T)\n",
    "    K1=10**(-pK1(T,S))\n",
    "    K2=10**(-pK2(T,S))\n",
    "    K[n]=K1/K2\n",
    "    co2=1/K[n]* (2*dic-talk)**2/(talk-dic)\n",
    "    co3=talk-dic\n",
    "    hco3=dic-co2-co3\n",
    "    h=K2*hco3/co3 #concentration of H+ ions\n",
    "    co2r[n]=co2/dic #fraction of CO2 to total DIC\n",
    "    hco3r[n]=hco3/dic\n",
    "    co3r[n]=co3/dic\n",
    "    ph_t[n]=-np.log(h)/np.log(10)\n"
   ]
  },
  {
   "cell_type": "code",
   "execution_count": 12,
   "metadata": {},
   "outputs": [
    {
     "name": "stdout",
     "output_type": "stream",
     "text": [
      "[  0.12887063 -30.74857242]\n"
     ]
    },
    {
     "data": {
      "image/png": "[encoded data removed]",
      "text/plain": [
       "<Figure size 432x288 with 1 Axes>"
      ]
     },
     "metadata": {
      "needs_background": "light"
     },
     "output_type": "display_data"
    }
   ],
   "source": [
    "#Make a plot here to address questions 3 and 4 of the problem set:\n",
    "#y = lnsolub(10**6*co2r*dic)\n",
    "plt.figure()\n",
    "plt.plot(temp+273.15, 10**6*co2r*dic) ##What have you plotted here? What are the units?\n",
    "# temp in kelvins, absolute CO2 concentration mol/kg\n",
    "plt.title('Change in pCO2 with temperature')\n",
    "plt.xlabel('Temperature (K)')\n",
    "plt.ylabel('pCO2 (umol/kg)')\n",
    "#plt.plot(temp+273.15, np.log(10**6*co2r*dic)) ## What have you plotted here? What are the units? \n",
    "# temp in kelvins, the log of absolute CO2 concentration mol/kg, slope\n",
    "\n",
    "# Also calculate the slope C for questions 3 and 4 here:\n",
    "C=np.polyfit(temp+273.15, 10**6*co2r*dic, 1) #What are the units on C? what is its physical meaning?\n",
    "print(C)\n",
    "# change in mol/kg per change in kelvin, or change in CO2 with temp\n",
    "#C=np.polyfit(temp+273.15, np.log(10**6*co2r*dic), 1) #Here is an alternative formulation of C. What are its units? What is its physical meaning?\n",
    "#print(C)\n",
    "# log of change of CO2 with temp so like acceleration (change in slope)"
   ]
  },
  {
   "cell_type": "code",
   "execution_count": 13,
   "metadata": {},
   "outputs": [],
   "source": [
    "#Explore how partitioning varies with pH of water\n",
    "\n",
    "dic=2000e-6\n",
    "T=273.15+15\n",
    "ph=np.arange(3,14,0.02); #initialize values for dic, T and a vector for pH values between 3 and 14\n",
    "\n",
    "co2r=0*ph; #initialize arrays to be same size as pH\n",
    "hco3r=0*ph;\n",
    "co3r=0*ph;\n",
    "\n",
    "for n in range(len(ph)):\n",
    "    h=10**(-ph[n])\n",
    "    K1=10**(-pK1(T,S))\n",
    "    K2=10**(-pK2(T,S))\n",
    "    co2 = dic / (1.+K1/h+K1*K2/h/h)\n",
    "    hco3 = dic/(1+h/K1+K2/h);\n",
    "    co3 = dic/(1+h/K2+h*h/K1/K2)\n",
    "    co2r[n]=co2/dic\n",
    "    hco3r[n]=hco3/dic\n",
    "    co3r[n]=co3/dic\n"
   ]
  },
  {
   "cell_type": "code",
   "execution_count": 14,
   "metadata": {},
   "outputs": [
    {
     "data": {
      "text/plain": [
       "<matplotlib.legend.Legend at 0x7f85f5e8c190>"
      ]
     },
     "execution_count": 14,
     "metadata": {},
     "output_type": "execute_result"
    },
    {
     "data": {
      "image/png": "[encoded data removed]",
      "text/plain": [
       "<Figure size 432x288 with 1 Axes>"
      ]
     },
     "metadata": {
      "needs_background": "light"
     },
     "output_type": "display_data"
    }
   ],
   "source": [
    "# Add some code to plot fraction of co2, hco3, and co3 vs pH\n",
    "plt.figure()\n",
    "plt.plot(ph, co2r, color='blue', label='CO2')\n",
    "plt.plot(ph, hco3r, color='red', label='HCO3')\n",
    "plt.plot(ph, co3r, color='green', label='CO3')\n",
    "#plt.semilogy(ph, co2r)\n",
    "#plt.loglog(ph, co2r)\n",
    "#plt.xlim([7.9,8.2])\n",
    "#plt.ylim([0,0.1])\n",
    "plt.xlabel('pH')\n",
    "plt.ylabel('Fraction of x to total DIC')\n",
    "plt.title('At what pH does CO2, HCO3, and CO3 dominate?')\n",
    "plt.legend()"
   ]
  },
  {
   "cell_type": "code",
   "execution_count": 15,
   "metadata": {},
   "outputs": [],
   "source": [
    "#Explore how partitioning varies when alkalinity and DIC vary independently.\n",
    "T=273.15+15;\n",
    "K1=10**(-pK1(T,S))\n",
    "K2=10**(-pK2(T,S))\n",
    "Kb=np.exp(lnKb(T,S))\n",
    "Kw=np.exp(lnKw(T,S))\n",
    "\n",
    "# Fix ALK, vary DIC\n",
    "alk0=2100e-6 #units are mol/kg\n",
    "dic_in=np.arange(1800,2501,50) #units are umol/kg\n",
    "#dic_in=np.array(2000)\n",
    "temp\n",
    "\n",
    "# Fix DIC, vary ALK\n",
    "dic0=2000e-6  # Units are mol/kg\n",
    "alk_in=np.arange(1800,2501,50) # units are umol/kg\n",
    "#alk_in=np.array(2100e-6)\n",
    "\n",
    "\n",
    "coeff=np.array([[0,1],[1,0]])       #initialize 2-D arrays 2 x size of DIC or ALK variable\n",
    "CO2_r=np.zeros([2,len(dic_in)])     # case 0 is where DIC varies, case 1 is where ALK varies\n",
    "HCO3_r=np.zeros([2,len(dic_in)])\n",
    "CO3_r=np.zeros([2,len(dic_in)])\n",
    "DIC_r=np.zeros([2,len(dic_in)])\n",
    "ALK_r=np.zeros([2,len(dic_in)])\n",
    "H_r=np.zeros([2,len(dic_in)])\n",
    "\n",
    "for case in range(2):\n",
    "    for n in range(len(dic_in)):\n",
    "        dic=coeff[case,0]*dic0+coeff[case,1]*dic_in[n]*1e-6\n",
    "        alk=coeff[case,0]*alk_in[n]*1e-6+coeff[case,1]*alk0  \n",
    "        p5  = -1.\n",
    "        p4  = -alk-Kb-K1\n",
    "        p3  = dic*K1-alk*(Kb+K1)+Kb*bor+Kw-Kb*K1-K1*K2\n",
    "        tmp = dic*(Kb*K1+2.*K1*K2)-alk*(Kb*K1+K1*K2)+Kb*bor*K1\n",
    "        p2  = tmp+(Kw*Kb+Kw*K1-Kb*K1*K2)\n",
    "        tmp = 2.*dic*Kb*K1*K2-alk*Kb*K1*K2+Kb*bor*K1*K2\n",
    "        p1  = tmp+(+Kw*Kb*K1+Kw*K1*K2)\n",
    "        p0  = Kw*Kb*K1*K2\n",
    "        p   = np.array([p5, p4, p3, p2, p1, p0]) #Return the roots of a polynomial with coefficients given in p.\n",
    "        r   = np.roots(p)\n",
    "        h   = np.max(np.real(r))\n",
    "        s = dic / (1.+K1/h+K1*K2/h/h)\n",
    "        hco3 = dic/(1+h/K1+K2/h)\n",
    "        co3 = dic/(1+h/K2+h*h/K1/K2)\n",
    "        # ----------- change units to umol/kg\n",
    "        CO2_r[case,n]   = 1.e6*s;\n",
    "        HCO3_r[case,n]   = hco3*1.e6;\n",
    "        CO3_r[case,n]    = co3*1.e6;\n",
    "        DIC_r[case,n]    = dic*1.e6;\n",
    "        ALK_r[case,n]    = alk*1.e6;\n",
    "        H_r[case,n]      = h;\n",
    "\n"
   ]
  },
  {
   "cell_type": "code",
   "execution_count": 16,
   "metadata": {},
   "outputs": [
    {
     "data": {
      "text/plain": [
       "Text(0, 0.5, 'pCO2 (umol/kg)')"
      ]
     },
     "execution_count": 16,
     "metadata": {},
     "output_type": "execute_result"
    },
    {
     "data": {
      "image/png": "[encoded data removed]",
      "text/plain": [
       "<Figure size 432x288 with 1 Axes>"
      ]
     },
     "metadata": {
      "needs_background": "light"
     },
     "output_type": "display_data"
    }
   ],
   "source": [
    "# Two different ways to plot for question 3:\n",
    "\n",
    "plt.figure()\n",
    "#plt.plot(temp+273.15, 10**6*co2r*dic)\n",
    "#plt.plot(np.log(DIC_r [0,:]), np.log(CO2_r [0,:]), 'o')\n",
    "plt.plot(np.log(ALK_r [1,:]), np.log(CO2_r [1,:]), 'o')\n",
    "#plt.ylim([0,330])\n",
    "#plt.xlim([0,2450])\n",
    "plt.title('Change in pCO2 with ALK')\n",
    "plt.xlabel('ALK (umol/kg)')\n",
    "plt.ylabel('pCO2 (umol/kg)')\n",
    "\n",
    "#Make some plots, fit slopes to them (similar to how it is shown for coefficient C above), plot your slope on the same axis!\n",
    "#Which version of the plot do you find easier to interpret? What are the differences?\n",
    "\n"
   ]
  },
  {
   "cell_type": "code",
   "execution_count": 17,
   "metadata": {},
   "outputs": [
    {
     "name": "stdout",
     "output_type": "stream",
     "text": [
      "[ 12.56892345 -92.03904735]\n",
      "[-11.87122389  94.35397236]\n"
     ]
    }
   ],
   "source": [
    "A=np.polyfit(np.log(DIC_r[0,:]), np.log(CO2_r[0,:]), 1)\n",
    "B=np.polyfit(np.log(ALK_r[1,:]), np.log(CO2_r[1,:]), 1)\n",
    "print(A)\n",
    "print(B)\n"
   ]
  },
  {
   "cell_type": "code",
   "execution_count": 10,
   "metadata": {},
   "outputs": [
    {
     "data": {
      "text/plain": [
       "0.029022975702541164"
      ]
     },
     "execution_count": 10,
     "metadata": {},
     "output_type": "execute_result"
    }
   ],
   "source": [
    "solub[24]"
   ]
  },
  {
   "cell_type": "code",
   "execution_count": 11,
   "metadata": {},
   "outputs": [
    {
     "data": {
      "text/plain": [
       "8.706892710762348"
      ]
     },
     "execution_count": 11,
     "metadata": {},
     "output_type": "execute_result"
    }
   ],
   "source": [
    "solub[24]*300"
   ]
  },
  {
   "cell_type": "code",
   "execution_count": 12,
   "metadata": {},
   "outputs": [
    {
     "data": {
      "text/plain": [
       "9.577581981838584"
      ]
     },
     "execution_count": 12,
     "metadata": {},
     "output_type": "execute_result"
    }
   ],
   "source": [
    "solub[24]*330"
   ]
  },
  {
   "cell_type": "code",
   "execution_count": 13,
   "metadata": {},
   "outputs": [
    {
     "data": {
      "text/plain": [
       "0.8706892710762357"
      ]
     },
     "execution_count": 13,
     "metadata": {},
     "output_type": "execute_result"
    }
   ],
   "source": [
    "9.577581981838584 - 8.706892710762348"
   ]
  },
  {
   "cell_type": "code",
   "execution_count": null,
   "metadata": {},
   "outputs": [],
   "source": []
  }
 ],
 "metadata": {
  "kernelspec": {
   "display_name": "Python 3 (ipykernel)",
   "language": "python",
   "name": "python3"
  },
  "language_info": {
   "codemirror_mode": {
    "name": "ipython",
    "version": 3
   },
   "file_extension": ".py",
   "mimetype": "text/x-python",
   "name": "python",
   "nbconvert_exporter": "python",
   "pygments_lexer": "ipython3",
   "version": "3.8.11"
  }
 },
 "nbformat": 4,
 "nbformat_minor": 4
}
